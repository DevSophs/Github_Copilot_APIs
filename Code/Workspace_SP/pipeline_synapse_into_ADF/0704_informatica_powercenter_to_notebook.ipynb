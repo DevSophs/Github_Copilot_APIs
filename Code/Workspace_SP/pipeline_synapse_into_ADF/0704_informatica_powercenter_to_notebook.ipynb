{
 "cells": [
  {
   "cell_type": "code",
   "execution_count": null,
   "id": "35a40735",
   "metadata": {},
   "outputs": [],
   "source": []
  }
 ],
 "metadata": {
  "language_info": {
   "name": "python"
  }
 },
 "nbformat": 4,
 "nbformat_minor": 5
}
